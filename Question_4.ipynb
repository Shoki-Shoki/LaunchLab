{
  "nbformat": 4,
  "nbformat_minor": 0,
  "metadata": {
    "colab": {
      "name": "Question 4.ipynb",
      "provenance": [],
      "authorship_tag": "ABX9TyPg9klkiAzsfbfgQj2V2dJj",
      "include_colab_link": true
    },
    "kernelspec": {
      "name": "python3",
      "display_name": "Python 3"
    }
  },
  "cells": [
    {
      "cell_type": "markdown",
      "metadata": {
        "id": "view-in-github",
        "colab_type": "text"
      },
      "source": [
        "<a href=\"https://colab.research.google.com/github/Shoki-Shoki/LaunchLab/blob/main/Question_4.ipynb\" target=\"_parent\"><img src=\"https://colab.research.google.com/assets/colab-badge.svg\" alt=\"Open In Colab\"/></a>"
      ]
    },
    {
      "cell_type": "code",
      "metadata": {
        "id": "Px6SDTJPY-xg",
        "outputId": "8c4b74f0-c8d4-4c92-e176-3347521bb3f6",
        "colab": {
          "base_uri": "https://localhost:8080/"
        }
      },
      "source": [
        "#Question 4 Write a function that converts a Roman numeral into an integer value.\n",
        "  \n",
        "# This function returns value of each Roman symbol \n",
        "def value(r): \n",
        "    if (r == 'I'): \n",
        "        return 1\n",
        "    if (r == 'V'): \n",
        "        return 5\n",
        "    if (r == 'X'): \n",
        "        return 10\n",
        "    if (r == 'L'): \n",
        "        return 50\n",
        "    if (r == 'C'): \n",
        "        return 100\n",
        "    if (r == 'D'): \n",
        "        return 500\n",
        "    if (r == 'M'): \n",
        "        return 1000\n",
        "    return -1\n",
        "  \n",
        "def romanToDecimal(str): \n",
        "    res = 0\n",
        "    i = 0\n",
        "  \n",
        "    while (i < len(str)): \n",
        "  \n",
        "        # Getting value of symbol s[i] \n",
        "        s1 = value(str[i]) \n",
        "  \n",
        "        if (i + 1 < len(str)): \n",
        "  \n",
        "            # Getting value of symbol s[i + 1] \n",
        "            s2 = value(str[i + 1]) \n",
        "  \n",
        "            # Comparing both values \n",
        "            if (s1 >= s2): \n",
        "  \n",
        "                # Value of current symbol is greater \n",
        "                # or equal to the next symbol \n",
        "                res = res + s1 \n",
        "                i = i + 1\n",
        "            else: \n",
        "  \n",
        "                # Value of current symbol is greater \n",
        "                # or equal to the next symbol \n",
        "                res = res + s2 - s1 \n",
        "                i = i + 2\n",
        "        else: \n",
        "            res = res + s1 \n",
        "            i = i + 1\n",
        "  \n",
        "    return res \n",
        "  \n",
        "# Driver code \n",
        "print(\"Integer form of Roman Numeral is\"), \n",
        "\n",
        "#Change here\n",
        "print(romanToDecimal(\"LL\"))"
      ],
      "execution_count": 5,
      "outputs": [
        {
          "output_type": "stream",
          "text": [
            "Integer form of Roman Numeral is\n",
            "100\n"
          ],
          "name": "stdout"
        }
      ]
    }
  ]
}