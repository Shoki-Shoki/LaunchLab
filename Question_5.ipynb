{
  "nbformat": 4,
  "nbformat_minor": 0,
  "metadata": {
    "colab": {
      "name": "Question 5.ipynb",
      "provenance": [],
      "authorship_tag": "ABX9TyP8i1GZ0BFYNMJwsH+9vtHe",
      "include_colab_link": true
    },
    "kernelspec": {
      "name": "python3",
      "display_name": "Python 3"
    }
  },
  "cells": [
    {
      "cell_type": "markdown",
      "metadata": {
        "id": "view-in-github",
        "colab_type": "text"
      },
      "source": [
        "<a href=\"https://colab.research.google.com/github/Shoki-Shoki/LaunchLab/blob/main/Question_5.ipynb\" target=\"_parent\"><img src=\"https://colab.research.google.com/assets/colab-badge.svg\" alt=\"Open In Colab\"/></a>"
      ]
    },
    {
      "cell_type": "code",
      "metadata": {
        "id": "ohLRUV56d_nX",
        "outputId": "9ef63ec9-ec25-44d4-bb0f-ed80015a45b6",
        "colab": {
          "base_uri": "https://localhost:8080/"
        }
      },
      "source": [
        "# Question 5 Given a sorted array, remove the duplicates such that each element appear only once and return the new length.\n",
        " \n",
        "def removeDuplicates(arr, n): \n",
        "  \n",
        "    # Return, if array is  \n",
        "    # empty or contains \n",
        "    # a single element \n",
        "    if n == 0 or n == 1: \n",
        "        return n \n",
        "  \n",
        "    temp = list(range(n)) \n",
        "  \n",
        "    # Start traversing elements \n",
        "    j = 0; \n",
        "    for i in range(0, n-1): \n",
        "  \n",
        "        # If current element is \n",
        "        # not equal to next \n",
        "        # element then store that \n",
        "        # current element \n",
        "        if arr[i] != arr[i+1]: \n",
        "            temp[j] = arr[i] \n",
        "            j += 1\n",
        "  \n",
        "    # Store the last element \n",
        "    # as whether it is unique \n",
        "    # or repeated, it hasn't \n",
        "    # stored previously \n",
        "    temp[j] = arr[n-1] \n",
        "    j += 1\n",
        "      \n",
        "    # Modify original array \n",
        "    for i in range(0, j): \n",
        "        arr[i] = temp[i] \n",
        "  \n",
        "    return j \n",
        "  \n",
        "# Display code \n",
        "arr = [1, 1, 7, 7, 4, 4, 4, 5, 5,8,8,9,9,9] \n",
        "n = len(arr) \n",
        "  \n",
        "# removeDuplicates() returns \n",
        "# new size of array. \n",
        "n = removeDuplicates(arr, n) \n",
        "  \n",
        "# Print updated array \n",
        "for i in range(n): \n",
        "    print (\"%d\"%(arr[i]), end = \" \") "
      ],
      "execution_count": 5,
      "outputs": [
        {
          "output_type": "stream",
          "text": [
            "1 7 4 5 8 9 "
          ],
          "name": "stdout"
        }
      ]
    }
  ]
}