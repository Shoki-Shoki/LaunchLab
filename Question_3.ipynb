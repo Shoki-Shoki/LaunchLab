{
  "nbformat": 4,
  "nbformat_minor": 0,
  "metadata": {
    "colab": {
      "name": "Question 3.ipynb",
      "provenance": [],
      "authorship_tag": "ABX9TyMNXcSUukeJLyyjWXLdy0hb",
      "include_colab_link": true
    },
    "kernelspec": {
      "name": "python3",
      "display_name": "Python 3"
    }
  },
  "cells": [
    {
      "cell_type": "markdown",
      "metadata": {
        "id": "view-in-github",
        "colab_type": "text"
      },
      "source": [
        "<a href=\"https://colab.research.google.com/github/Shoki-Shoki/LaunchLab/blob/main/Question_3.ipynb\" target=\"_parent\"><img src=\"https://colab.research.google.com/assets/colab-badge.svg\" alt=\"Open In Colab\"/></a>"
      ]
    },
    {
      "cell_type": "code",
      "metadata": {
        "id": "jtOeMtzHUSlc",
        "outputId": "f86bd0de-d011-4fd5-fa13-f2b77918cf99",
        "colab": {
          "base_uri": "https://localhost:8080/"
        }
      },
      "source": [
        "#Question 3 Given a collection of intervals, merge all overlapping intervals.\n",
        "\n",
        "def mergeIntervals(arr): \n",
        "          \n",
        "        # Sorting based on the increasing order of the start intervals \n",
        "        arr.sort(key = lambda x: x[0])  \n",
        "          \n",
        "        # array to hold the merged intervals \n",
        "        m = [] \n",
        "        #s is the starting poin\n",
        "        #m is the list of merged intervals\n",
        "        #max is the maximum(last) point of interval\n",
        "\n",
        "        s = -1000000\n",
        "        max = -10000000\n",
        "        for i in range(len(arr)): \n",
        "            a = arr[i] \n",
        "            if a[0] > max: \n",
        "                if i != 0: \n",
        "                    m.append([s,max]) \n",
        "                max = a[1] \n",
        "                s = a[0] \n",
        "            else: \n",
        "                if a[1] >= max: \n",
        "                    max = a[1] \n",
        "          \n",
        "        \n",
        "        if max != -100000 and [s, max] not in m: \n",
        "            m.append([s, max]) \n",
        "        print(\"The Merged Intervals are :\", end = \" \") \n",
        "        for i in range(len(m)): \n",
        "            print(m[i], end = \" \") \n",
        "  \n",
        "# Diplay Program \n",
        "arr = [[1,3], [2,6], [8,10], [15,18]]\n",
        "mergeIntervals(arr) "
      ],
      "execution_count": null,
      "outputs": [
        {
          "output_type": "stream",
          "text": [
            "The Merged Intervals are : [1, 6] [8, 10] [15, 18] "
          ],
          "name": "stdout"
        }
      ]
    }
  ]
}