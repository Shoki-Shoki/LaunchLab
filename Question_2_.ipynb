{
  "nbformat": 4,
  "nbformat_minor": 0,
  "metadata": {
    "colab": {
      "name": "Question 2 .ipynb",
      "provenance": [],
      "authorship_tag": "ABX9TyNdhcxBIrIS0zKVLchIv5l0",
      "include_colab_link": true
    },
    "kernelspec": {
      "name": "python3",
      "display_name": "Python 3"
    }
  },
  "cells": [
    {
      "cell_type": "markdown",
      "metadata": {
        "id": "view-in-github",
        "colab_type": "text"
      },
      "source": [
        "<a href=\"https://colab.research.google.com/github/Shoki-Shoki/LaunchLab/blob/main/Question_2_.ipynb\" target=\"_parent\"><img src=\"https://colab.research.google.com/assets/colab-badge.svg\" alt=\"Open In Colab\"/></a>"
      ]
    },
    {
      "cell_type": "code",
      "metadata": {
        "id": "lPXOues7RaXr",
        "outputId": "b3e4b3d0-017c-4b57-9de5-f870dce76564",
        "colab": {
          "base_uri": "https://localhost:8080/"
        }
      },
      "source": [
        "\n",
        "\n",
        "#Given an array of integers, return how many elements of the array contain an even number of digits, and how many contain an uneven number of digits.\n",
        "\n",
        "def countEvenOdd(n): \n",
        "      \n",
        "    even_count = 0\n",
        "    odd_count = 0\n",
        "    while (n > 0): \n",
        "        rem = n % 10\n",
        "        if (rem % 2 == 0): \n",
        "            even_count += 1\n",
        "        else: \n",
        "            odd_count += 1\n",
        "              \n",
        "        n = int(n / 10) \n",
        "      \n",
        "    print( \"Even count : \" , even_count) \n",
        "    print(\"\\nOdd count : \" , odd_count) \n",
        "    if (even_count % 2 == 0 and\n",
        "                    odd_count % 2 != 0): \n",
        "        return 1\n",
        "    else: \n",
        "        return 0\n",
        "  \n",
        "# Display  code \n",
        "n = 854820; \n",
        "t = countEvenOdd(n); \n",
        "  \n",
        "if (t == 1): \n",
        "    print(\"YES\") \n",
        "else: \n",
        "    print(\"NO\") \n",
        "\n"
      ],
      "execution_count": 3,
      "outputs": [
        {
          "output_type": "stream",
          "text": [
            "Even count :  5\n",
            "\n",
            "Odd count :  1\n",
            "NO\n"
          ],
          "name": "stdout"
        }
      ]
    }
  ]
}