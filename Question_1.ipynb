{
  "nbformat": 4,
  "nbformat_minor": 0,
  "metadata": {
    "colab": {
      "name": "Question 1.ipynb",
      "provenance": [],
      "authorship_tag": "ABX9TyM6NMjT9vMLjv1Y+01wKejH",
      "include_colab_link": true
    },
    "kernelspec": {
      "name": "python3",
      "display_name": "Python 3"
    }
  },
  "cells": [
    {
      "cell_type": "markdown",
      "metadata": {
        "id": "view-in-github",
        "colab_type": "text"
      },
      "source": [
        "<a href=\"https://colab.research.google.com/github/Shoki-Shoki/LaunchLab/blob/main/Question_1.ipynb\" target=\"_parent\"><img src=\"https://colab.research.google.com/assets/colab-badge.svg\" alt=\"Open In Colab\"/></a>"
      ]
    },
    {
      "cell_type": "code",
      "metadata": {
        "id": "pE_wRgcEPNI2"
      },
      "source": [
        " \n",
        "#Question 1 \n",
        "\n",
        "def Fibonacci(n): \n",
        "    if n<0: \n",
        "        print(\"Incorrect input\") \n",
        "    # First Fibonacci number is 0 \n",
        "    elif n==0: \n",
        "        return 0\n",
        "    # Second Fibonacci number is 1 \n",
        "    elif n==1: \n",
        "        return 1\n",
        "    else: \n",
        "        return Fibonacci(n-1)+Fibonacci(n-2) \n",
        "  \n",
        "# Driver Program  \n",
        "  \n",
        "print(Fibonacci(200)) \n",
        "  "
      ],
      "execution_count": null,
      "outputs": []
    }
  ]
}